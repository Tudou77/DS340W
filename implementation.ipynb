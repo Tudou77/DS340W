{
  "cells": [
    {
      "cell_type": "markdown",
      "metadata": {
        "id": "view-in-github",
        "colab_type": "text"
      },
      "source": [
        "<a href=\"https://colab.research.google.com/github/Tudou77/DS340W/blob/main/implementation.ipynb\" target=\"_parent\"><img src=\"https://colab.research.google.com/assets/colab-badge.svg\" alt=\"Open In Colab\"/></a>"
      ]
    },
    {
      "cell_type": "markdown",
      "source": [
        "## load data"
      ],
      "metadata": {
        "id": "QdGjy23MqSK8"
      }
    },
    {
      "cell_type": "code",
      "execution_count": 4,
      "metadata": {
        "id": "mq_6gwJdD5w7",
        "colab": {
          "base_uri": "https://localhost:8080/"
        },
        "outputId": "29ac7cda-28a1-43ec-9b10-3caa941d4d7f"
      },
      "outputs": [
        {
          "output_type": "stream",
          "name": "stderr",
          "text": [
            "/usr/local/lib/python3.7/dist-packages/statsmodels/tools/_testing.py:19: FutureWarning: pandas.util.testing is deprecated. Use the functions in the public API at pandas.testing instead.\n",
            "  import pandas.util.testing as tm\n"
          ]
        }
      ],
      "source": [
        "import requests\n",
        "from io import StringIO\n",
        "import numpy as np # linear algebra\n",
        "import pandas as pd # data processing, CSV file I/O (e.g. pd.read_csv)\n",
        "from xgboost import XGBClassifier\n",
        "from xgboost import plot_importance\n",
        "from xgboost import plot_tree\n",
        "import matplotlib.pyplot as plt\n",
        "from matplotlib import pyplot\n",
        "from statsmodels.nonparametric.smoothers_lowess import lowess\n",
        "from sklearn.preprocessing import LabelEncoder\n",
        "from sklearn.metrics import confusion_matrix, mean_squared_error,precision_score\n",
        "from sklearn.model_selection import train_test_split\n",
        "from sklearn.model_selection import KFold\n",
        "from sklearn.model_selection import GridSearchCV\n",
        "import math\n",
        "from sklearn.metrics import accuracy_score\n",
        "\n",
        "url=\"https://drive.google.com/file/d/1Wf3U7CjPvPDkRObF0R9qM08pMNJRf9CJ/view?usp=sharing\"\n",
        "\n",
        "\n",
        "#target dataset\n"
      ]
    },
    {
      "cell_type": "code",
      "execution_count": 5,
      "metadata": {
        "id": "Y_vx-J_mH2o3"
      },
      "outputs": [],
      "source": [
        "file_id = url.split('/')[-2]\n",
        "dwn_url='https://drive.google.com/uc?export=download&id=' + file_id\n",
        "url2 = requests.get(dwn_url).text\n",
        "csv_raw = StringIO(url2)\n",
        "shots = pd.read_csv(csv_raw)"
      ]
    },
    {
      "cell_type": "markdown",
      "source": [
        "##feature engineering\n"
      ],
      "metadata": {
        "id": "Q2f2UsoBqYf7"
      }
    },
    {
      "cell_type": "code",
      "execution_count": 6,
      "metadata": {
        "colab": {
          "base_uri": "https://localhost:8080/"
        },
        "id": "IQ5DhwMjJqOI",
        "outputId": "6874f5e8-6821-4e9e-ba57-c41d0487d070"
      },
      "outputs": [
        {
          "output_type": "execute_result",
          "data": {
            "text/plain": [
              "game_id                         int64\n",
              "matchup                        object\n",
              "location                       object\n",
              "w                              object\n",
              "final_margin                    int64\n",
              "shot_number                     int64\n",
              "period                          int64\n",
              "game_clock                     object\n",
              "shot_clock                    float64\n",
              "dribbles                        int64\n",
              "touch_time                    float64\n",
              "shot_dist                     float64\n",
              "pts_type                        int64\n",
              "shot_result                    object\n",
              "closest_defender               object\n",
              "closest_defender_player_id      int64\n",
              "close_def_dist                float64\n",
              "fgm                             int64\n",
              "pts                             int64\n",
              "player_name                    object\n",
              "player_id                       int64\n",
              "dtype: object"
            ]
          },
          "metadata": {},
          "execution_count": 6
        }
      ],
      "source": [
        "shots.columns = shots.columns.str.lower()\n",
        "shots.dtypes"
      ]
    },
    {
      "cell_type": "code",
      "execution_count": 7,
      "metadata": {
        "id": "lDBQUI9IJo1T"
      },
      "outputs": [],
      "source": [
        "# Convert game clock to seconds\n",
        "shots['game_clock'] = shots['game_clock'].apply(\n",
        "    lambda x: 60*int(x.split(':')[0]) + int(x.split(':')[1])\n",
        ")\n",
        "\n",
        "# Replacing abnormal values with NaNs\n",
        "shots.loc[shots['touch_time'] < 0, 'touch_time'] = np.nan\n",
        "\n",
        "# Converting type of shot (2 or 3 points) to categorical\n",
        "shots['pts_type'] = (shots['pts_type'] == 3) * 1\n",
        "\n",
        "# Converting location\n",
        "shots['location'] = (shots['location'] == 'H') * 1\n",
        "\n",
        "# Renaming columns\n",
        "shots = shots.rename(columns = {\n",
        "    'fgm':'hit',\n",
        "    'pts_type':'3pts_shot',\n",
        "    'location':'home_match'\n",
        "})\n",
        "\n",
        "# Dropping informative columns (not useful to modelling) as well as \n",
        "# future variables which won't be available at predicting time\n",
        "shots = shots.drop(columns = [\n",
        "    'game_id',\n",
        "    'matchup',\n",
        "    'w',\n",
        "    'final_margin',\n",
        "    'closest_defender_player_id',\n",
        "    'player_id',\n",
        "    'shot_result',\n",
        "    'closest_defender',\n",
        "    'player_name',\n",
        "    'pts'\n",
        "])\n",
        "\n",
        "\n"
      ]
    },
    {
      "cell_type": "code",
      "execution_count": 8,
      "metadata": {
        "id": "WPShCxkYJ4IA"
      },
      "outputs": [],
      "source": [
        "shots_scaled = shots.copy()\n",
        "from sklearn.preprocessing import StandardScaler\n",
        "from sklearn import preprocessing\n",
        "# Stardardization\n",
        "shots_scaled[['shot_clock']] = preprocessing.StandardScaler().fit_transform(shots[['shot_clock']].values)\n",
        "\n",
        "# Robust scaling\n",
        "skewed_cols = ['shot_number', 'dribbles', 'touch_time', 'close_def_dist']\n",
        "shots_scaled[skewed_cols] = preprocessing.RobustScaler().fit_transform(shots[skewed_cols].values)\n",
        "    \n",
        "# Min max transformation\n",
        "min_max_cols = ['period', 'game_clock', 'shot_dist']\n",
        "shots_scaled[min_max_cols] = preprocessing.MinMaxScaler().fit_transform(shots[min_max_cols].values)\n",
        "\n",
        "# Filling NaNs with mean\n",
        "shots_scaled['shot_clock'] = shots_scaled['shot_clock'].fillna(shots_scaled['shot_clock'].mean())\n",
        "shots_scaled['touch_time'] = shots_scaled['touch_time'].fillna(shots_scaled['touch_time'].median())\n",
        "shots['shot_clock'] = shots['shot_clock'].fillna(shots['shot_clock'].mean())\n",
        "shots['touch_time'] = shots['touch_time'].fillna(shots['touch_time'].median())"
      ]
    },
    {
      "cell_type": "markdown",
      "source": [
        "##PCA"
      ],
      "metadata": {
        "id": "CxuHpCHyqcpD"
      }
    },
    {
      "cell_type": "code",
      "execution_count": 9,
      "metadata": {
        "id": "zfq6QY4xKQ78"
      },
      "outputs": [],
      "source": [
        "# Fitting PCA and showing PVE\n",
        "from sklearn.decomposition import PCA\n",
        "pca = PCA(random_state=42).fit(shots_scaled.drop('hit', axis=1).values)\n",
        "pve = pca.explained_variance_ratio_"
      ]
    },
    {
      "cell_type": "code",
      "execution_count": 10,
      "metadata": {
        "colab": {
          "base_uri": "https://localhost:8080/",
          "height": 0
        },
        "id": "u5ylIeF8KRUM",
        "outputId": "5052deb5-4e23-4dab-97ed-7baa288eeffd"
      },
      "outputs": [
        {
          "output_type": "display_data",
          "data": {
            "text/plain": [
              "<Figure size 432x288 with 1 Axes>"
            ],
            "image/png": "[encoded data removed]"
          },
          "metadata": {
            "needs_background": "light"
          }
        }
      ],
      "source": [
        "plt.plot(range(1, len(pve) + 1), pve.cumsum())\n",
        "plt.title('Cumulative sum of explained variance', fontsize=16)\n",
        "plt.xlabel('Components')\n",
        "plt.ylabel('Percentage (%)')\n",
        "plt.show()"
      ]
    },
    {
      "cell_type": "markdown",
      "source": [
        "##split dataset"
      ],
      "metadata": {
        "id": "y0qB73jZqiiz"
      }
    },
    {
      "cell_type": "code",
      "execution_count": 11,
      "metadata": {
        "id": "tbawjgyFKf92"
      },
      "outputs": [],
      "source": [
        "X = shots.drop('hit', axis = 1).values\n",
        "y = shots['hit'].values\n",
        "x_train, x_test, y_train, y_test = train_test_split(X, y, test_size = 0.2, random_state=42)\n",
        "\n",
        "# Splitting scaled and transformed by PCA dataset\n",
        "X_scaled = pca.transform(shots_scaled.drop('hit', axis = 1).values)[:,:4]\n",
        "x_train_scaled, x_test_scaled, _, _ = train_test_split(X_scaled, y, test_size = 0.2, random_state=42)"
      ]
    },
    {
      "cell_type": "markdown",
      "source": [
        "##random Forest"
      ],
      "metadata": {
        "id": "mU0Kqp2Cqr_z"
      }
    },
    {
      "cell_type": "code",
      "execution_count": 12,
      "metadata": {
        "colab": {
          "base_uri": "https://localhost:8080/"
        },
        "id": "pUmHRz7tI_Um",
        "outputId": "3d0bbb58-3d39-4d5b-f043-89e9dc60f4d5"
      },
      "outputs": [
        {
          "output_type": "stream",
          "name": "stdout",
          "text": [
            "[[9669 4327]\n",
            " [7183 4435]]\n",
            "precision_score: 0.506162976489386\n",
            "accuracy_score: 0.5506363707347545\n"
          ]
        }
      ],
      "source": [
        "from sklearn.ensemble import RandomForestClassifier\n",
        "randomforest_model = RandomForestClassifier()\n",
        "randomforest_model.fit(x_train_scaled, y_train)\n",
        "\n",
        "predictions = randomforest_model.predict(x_test_scaled)\n",
        "\n",
        "actuals = y_test\n",
        "\n",
        "print(confusion_matrix(actuals, predictions))\n",
        "print(\"precision_score:\",precision_score(actuals, predictions))\n",
        "print(\"accuracy_score:\", accuracy_score(actuals, predictions))"
      ]
    },
    {
      "cell_type": "markdown",
      "source": [
        "##Logistic Regression"
      ],
      "metadata": {
        "id": "znPpCzhBquaD"
      }
    },
    {
      "cell_type": "code",
      "source": [
        "from sklearn.linear_model import LogisticRegression\n",
        "LR_model = LogisticRegression()\n",
        "LR_model.fit(x_train_scaled, y_train)\n",
        "\n",
        "predictions = LR_model.predict(x_test_scaled)\n",
        "\n",
        "actuals = y_test\n",
        "\n",
        "print(confusion_matrix(actuals, predictions))\n",
        "print(\"precision_score:\",precision_score(actuals, predictions))\n",
        "print(\"accuracy_score:\", accuracy_score(actuals, predictions))"
      ],
      "metadata": {
        "id": "RHXx8EEnqwzT",
        "colab": {
          "base_uri": "https://localhost:8080/"
        },
        "outputId": "daac87dc-c156-450b-8f58-56ceb95c415b"
      },
      "execution_count": 13,
      "outputs": [
        {
          "output_type": "stream",
          "name": "stdout",
          "text": [
            "[[11966  2030]\n",
            " [ 9047  2571]]\n",
            "precision_score: 0.5587915670506411\n",
            "accuracy_score: 0.5675411884125868\n"
          ]
        }
      ]
    },
    {
      "cell_type": "markdown",
      "source": [
        "##Naive Bayes\n"
      ],
      "metadata": {
        "id": "DYLlGQxHGDhf"
      }
    },
    {
      "cell_type": "code",
      "source": [
        "from sklearn.naive_bayes import MultinomialNB, GaussianNB\n",
        "\n",
        "mnb=GaussianNB()\n",
        "mnb_model = mnb.fit(x_train_scaled, y_train)\n",
        "predictions = mnb_model.predict(x_test_scaled)\n",
        "\n",
        "actuals = y_test\n",
        "\n",
        "print(confusion_matrix(actuals, predictions))\n",
        "print(\"precision_score:\",precision_score(actuals, predictions))\n",
        "print(\"accuracy_score:\", accuracy_score(actuals, predictions))"
      ],
      "metadata": {
        "id": "foudYK0zq18E",
        "colab": {
          "base_uri": "https://localhost:8080/"
        },
        "outputId": "686c0bff-3779-4d83-d9bd-db4086dfbce3"
      },
      "execution_count": 14,
      "outputs": [
        {
          "output_type": "stream",
          "name": "stdout",
          "text": [
            "[[11319  2677]\n",
            " [ 8544  3074]]\n",
            "precision_score: 0.5345157363936707\n",
            "accuracy_score: 0.5619192629030999\n"
          ]
        }
      ]
    },
    {
      "cell_type": "markdown",
      "source": [
        "##Nerual Network"
      ],
      "metadata": {
        "id": "d_9OgXpYM4cG"
      }
    },
    {
      "cell_type": "code",
      "source": [
        "from sklearn.neural_network import MLPClassifier\n",
        "mlp=MLPClassifier()\n",
        "mlp_model = mlp.fit(x_train_scaled, y_train)\n",
        "predictions = mlp_model.predict(x_test_scaled)\n",
        "\n",
        "actuals = y_test\n",
        "\n",
        "print(confusion_matrix(actuals, predictions))\n",
        "print(\"precision_score:\",precision_score(actuals, predictions))\n",
        "print(\"accuracy_score:\", accuracy_score(actuals, predictions))\n"
      ],
      "metadata": {
        "colab": {
          "base_uri": "https://localhost:8080/"
        },
        "id": "rVJPNJ4EM3Dz",
        "outputId": "7a8414d4-1b09-47a9-8467-22825f967b59"
      },
      "execution_count": 15,
      "outputs": [
        {
          "output_type": "stream",
          "name": "stdout",
          "text": [
            "[[11294  2702]\n",
            " [ 8053  3565]]\n",
            "precision_score: 0.568852720599968\n",
            "accuracy_score: 0.5801124385101898\n"
          ]
        }
      ]
    },
    {
      "cell_type": "markdown",
      "source": [
        "##XGBOOST"
      ],
      "metadata": {
        "id": "Unmsx1NbRRnG"
      }
    },
    {
      "cell_type": "code",
      "execution_count": 16,
      "metadata": {
        "colab": {
          "base_uri": "https://localhost:8080/"
        },
        "outputId": "a07042d1-c5c4-46d4-ffd3-325f66232ce9",
        "id": "PTCanZ61RRnG"
      },
      "outputs": [
        {
          "output_type": "stream",
          "name": "stdout",
          "text": [
            "[[11515  2481]\n",
            " [ 8184  3434]]\n",
            "0.5805579036348267\n",
            "best params\n",
            "{'learning_rate': 0.0001, 'max_depth': 3, 'min_child_weight': 0.0001, 'n_estimators': 1}\n",
            "best score\n",
            "0.6802144971020985\n"
          ]
        }
      ],
      "source": [
        "xgb_model = XGBClassifier().fit(x_train_scaled, y_train)\n",
        "\n",
        "predictions = xgb_model.predict(x_test_scaled)\n",
        "\n",
        "actuals = y_test\n",
        "\n",
        "print(confusion_matrix(actuals, predictions))\n",
        "print(precision_score(actuals, predictions) )\n",
        "\n",
        "\n",
        "\n",
        "\n",
        "'''\n",
        "parameters_for_testing = {\n",
        "    'min_child_weight':[0.0001,0.001,0.01,0.1],\n",
        "    'learning_rate':[0.00001,0.0001,0.001],\n",
        "    'n_estimators':[1,2,3,5,10],\n",
        "    'max_depth':[2,3,4,5]\n",
        "}\n",
        "'''\n",
        "parameters_for_testing = {\n",
        "    'min_child_weight':[0.0001,0.001,0.01,0.1],\n",
        "    'learning_rate':[0.0001,0.001],\n",
        "    'n_estimators':[1,3,5,10],\n",
        "    'max_depth':[3,4]\n",
        "}\n",
        "# Parameter tuning using 7 features\n",
        "xgb_model = XGBClassifier()\n",
        "\n",
        "gsearch1 = GridSearchCV(estimator = xgb_model, param_grid = parameters_for_testing, scoring='precision')\n",
        "gsearch1.fit(x_train,y_train)\n",
        "\n",
        "print('best params')\n",
        "print (gsearch1.best_params_)\n",
        "print('best score')\n",
        "print (gsearch1.best_score_)"
      ]
    },
    {
      "cell_type": "markdown",
      "source": [
        "##SVM"
      ],
      "metadata": {
        "id": "38uj05W1LxOa"
      }
    },
    {
      "cell_type": "code",
      "source": [
        "from sklearn.svm import LinearSVC\n",
        "from sklearn.pipeline import make_pipeline\n",
        "from sklearn.preprocessing import StandardScaler\n",
        "from sklearn.datasets import make_classification\n"
      ],
      "metadata": {
        "id": "JWr5hjavZQBK"
      },
      "execution_count": 17,
      "outputs": []
    },
    {
      "cell_type": "code",
      "source": [
        "from sklearn.model_selection import GridSearchCV\n",
        "from sklearn.svm import LinearSVC, SVC\n",
        "svm=SVC()\n",
        "svm_model = svm.fit(x_train_scaled, y_train)\n",
        "predictions = svm_model.predict(x_test_scaled)\n",
        "\n",
        "actuals = y_test\n",
        "\n",
        "print(confusion_matrix(actuals, predictions))\n",
        "print(\"precision_score:\",precision_score(actuals, predictions))\n",
        "print(\"accuracy_score:\", accuracy_score(actuals, predictions))"
      ],
      "metadata": {
        "id": "_yUNywH7XXO3"
      },
      "execution_count": null,
      "outputs": []
    }
  ],
  "metadata": {
    "colab": {
      "name": "Untitled7.ipynb",
      "provenance": [],
      "authorship_tag": "ABX9TyNuxtoAOTgYOqiV7u9zXKQn",
      "include_colab_link": true
    },
    "kernelspec": {
      "display_name": "Python 3",
      "name": "python3"
    },
    "language_info": {
      "name": "python"
    }
  },
  "nbformat": 4,
  "nbformat_minor": 0
}