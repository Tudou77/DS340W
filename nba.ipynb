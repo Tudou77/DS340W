{
  "cells": [
    {
      "cell_type": "markdown",
      "metadata": {
        "id": "view-in-github",
        "colab_type": "text"
      },
      "source": [
        "<a href=\"https://colab.research.google.com/github/Tudou77/DS340W/blob/main/nba.ipynb\" target=\"_parent\"><img src=\"https://colab.research.google.com/assets/colab-badge.svg\" alt=\"Open In Colab\"/></a>"
      ]
    },
    {
      "cell_type": "markdown",
      "metadata": {
        "id": "QdGjy23MqSK8"
      },
      "source": [
        "## load data"
      ]
    },
    {
      "cell_type": "code",
      "execution_count": 1,
      "metadata": {
        "id": "mq_6gwJdD5w7",
        "colab": {
          "base_uri": "https://localhost:8080/"
        },
        "outputId": "a97eb3f6-cd8f-4bb4-84a3-87755859a5ec"
      },
      "outputs": [
        {
          "output_type": "stream",
          "name": "stderr",
          "text": [
            "/usr/local/lib/python3.7/dist-packages/statsmodels/tools/_testing.py:19: FutureWarning: pandas.util.testing is deprecated. Use the functions in the public API at pandas.testing instead.\n",
            "  import pandas.util.testing as tm\n"
          ]
        }
      ],
      "source": [
        "import requests\n",
        "from io import StringIO\n",
        "import numpy as np \n",
        "import pandas as pd \n",
        "from xgboost import XGBClassifier\n",
        "from xgboost import plot_importance\n",
        "from xgboost import plot_tree\n",
        "import matplotlib.pyplot as plt\n",
        "from matplotlib import pyplot\n",
        "from statsmodels.nonparametric.smoothers_lowess import lowess\n",
        "from sklearn.preprocessing import LabelEncoder\n",
        "from sklearn.metrics import confusion_matrix, mean_squared_error,precision_score\n",
        "from sklearn.model_selection import train_test_split\n",
        "from sklearn.model_selection import KFold\n",
        "from sklearn.model_selection import GridSearchCV\n",
        "import math\n",
        "from sklearn.metrics import accuracy_score\n",
        "from sklearn.preprocessing import LabelEncoder\n",
        "from sklearn.preprocessing import StandardScaler\n",
        "from sklearn.ensemble import RandomForestClassifier\n",
        "from keras.preprocessing import sequence\n",
        "from keras.models import Sequential\n",
        "from keras.layers import Dense, Dropout, Embedding, LSTM, Bidirectional\n",
        "from keras.datasets import imdb \n",
        "\n",
        "url=\"https://drive.google.com/file/d/1Wf3U7CjPvPDkRObF0R9qM08pMNJRf9CJ/view?usp=sharing\"\n",
        "\n",
        "\n",
        "\n"
      ]
    },
    {
      "cell_type": "code",
      "execution_count": 2,
      "metadata": {
        "id": "Y_vx-J_mH2o3",
        "colab": {
          "base_uri": "https://localhost:8080/",
          "height": 646
        },
        "outputId": "f0690d9f-b5a8-4420-8ccd-1a67c7b051c9"
      },
      "outputs": [
        {
          "output_type": "execute_result",
          "data": {
            "text/plain": [
              "    GAME_ID                   MATCHUP LOCATION  W  FINAL_MARGIN  SHOT_NUMBER  \\\n",
              "0  21400899  MAR 04, 2015 - CHA @ BKN        A  W            24            1   \n",
              "1  21400899  MAR 04, 2015 - CHA @ BKN        A  W            24            2   \n",
              "2  21400899  MAR 04, 2015 - CHA @ BKN        A  W            24            3   \n",
              "3  21400899  MAR 04, 2015 - CHA @ BKN        A  W            24            4   \n",
              "4  21400899  MAR 04, 2015 - CHA @ BKN        A  W            24            5   \n",
              "\n",
              "   PERIOD GAME_CLOCK  SHOT_CLOCK  DRIBBLES  ...  SHOT_DIST  PTS_TYPE  \\\n",
              "0       1       1:09        10.8         2  ...        7.7         2   \n",
              "1       1       0:14         3.4         0  ...       28.2         3   \n",
              "2       1       0:00         NaN         3  ...       10.1         2   \n",
              "3       2      11:47        10.3         2  ...       17.2         2   \n",
              "4       2      10:34        10.9         2  ...        3.7         2   \n",
              "\n",
              "   SHOT_RESULT   CLOSEST_DEFENDER CLOSEST_DEFENDER_PLAYER_ID  CLOSE_DEF_DIST  \\\n",
              "0         made     Anderson, Alan                     101187             1.3   \n",
              "1       missed  Bogdanovic, Bojan                     202711             6.1   \n",
              "2       missed  Bogdanovic, Bojan                     202711             0.9   \n",
              "3       missed      Brown, Markel                     203900             3.4   \n",
              "4       missed    Young, Thaddeus                     201152             1.1   \n",
              "\n",
              "   FGM  PTS    player_name player_id  \n",
              "0    1    2  brian roberts    203148  \n",
              "1    0    0  brian roberts    203148  \n",
              "2    0    0  brian roberts    203148  \n",
              "3    0    0  brian roberts    203148  \n",
              "4    0    0  brian roberts    203148  \n",
              "\n",
              "[5 rows x 21 columns]"
            ],
            "text/html": [
              "\n",
              "  <div id=\"df-e6949cb5-731c-4193-92e6-bcf5c5b3458c\">\n",
              "    <div class=\"colab-df-container\">\n",
              "      <div>\n",
              "<style scoped>\n",
              "    .dataframe tbody tr th:only-of-type {\n",
              "        vertical-align: middle;\n",
              "    }\n",
              "\n",
              "    .dataframe tbody tr th {\n",
              "        vertical-align: top;\n",
              "    }\n",
              "\n",
              "    .dataframe thead th {\n",
              "        text-align: right;\n",
              "    }\n",
              "</style>\n",
              "<table border=\"1\" class=\"dataframe\">\n",
              "  <thead>\n",
              "    <tr style=\"text-align: right;\">\n",
              "      <th></th>\n",
              "      <th>GAME_ID</th>\n",
              "      <th>MATCHUP</th>\n",
              "      <th>LOCATION</th>\n",
              "      <th>W</th>\n",
              "      <th>FINAL_MARGIN</th>\n",
              "      <th>SHOT_NUMBER</th>\n",
              "      <th>PERIOD</th>\n",
              "      <th>GAME_CLOCK</th>\n",
              "      <th>SHOT_CLOCK</th>\n",
              "      <th>DRIBBLES</th>\n",
              "      <th>...</th>\n",
              "      <th>SHOT_DIST</th>\n",
              "      <th>PTS_TYPE</th>\n",
              "      <th>SHOT_RESULT</th>\n",
              "      <th>CLOSEST_DEFENDER</th>\n",
              "      <th>CLOSEST_DEFENDER_PLAYER_ID</th>\n",
              "      <th>CLOSE_DEF_DIST</th>\n",
              "      <th>FGM</th>\n",
              "      <th>PTS</th>\n",
              "      <th>player_name</th>\n",
              "      <th>player_id</th>\n",
              "    </tr>\n",
              "  </thead>\n",
              "  <tbody>\n",
              "    <tr>\n",
              "      <th>0</th>\n",
              "      <td>21400899</td>\n",
              "      <td>MAR 04, 2015 - CHA @ BKN</td>\n",
              "      <td>A</td>\n",
              "      <td>W</td>\n",
              "      <td>24</td>\n",
              "      <td>1</td>\n",
              "      <td>1</td>\n",
              "      <td>1:09</td>\n",
              "      <td>10.8</td>\n",
              "      <td>2</td>\n",
              "      <td>...</td>\n",
              "      <td>7.7</td>\n",
              "      <td>2</td>\n",
              "      <td>made</td>\n",
              "      <td>Anderson, Alan</td>\n",
              "      <td>101187</td>\n",
              "      <td>1.3</td>\n",
              "      <td>1</td>\n",
              "      <td>2</td>\n",
              "      <td>brian roberts</td>\n",
              "      <td>203148</td>\n",
              "    </tr>\n",
              "    <tr>\n",
              "      <th>1</th>\n",
              "      <td>21400899</td>\n",
              "      <td>MAR 04, 2015 - CHA @ BKN</td>\n",
              "      <td>A</td>\n",
              "      <td>W</td>\n",
              "      <td>24</td>\n",
              "      <td>2</td>\n",
              "      <td>1</td>\n",
              "      <td>0:14</td>\n",
              "      <td>3.4</td>\n",
              "      <td>0</td>\n",
              "      <td>...</td>\n",
              "      <td>28.2</td>\n",
              "      <td>3</td>\n",
              "      <td>missed</td>\n",
              "      <td>Bogdanovic, Bojan</td>\n",
              "      <td>202711</td>\n",
              "      <td>6.1</td>\n",
              "      <td>0</td>\n",
              "      <td>0</td>\n",
              "      <td>brian roberts</td>\n",
              "      <td>203148</td>\n",
              "    </tr>\n",
              "    <tr>\n",
              "      <th>2</th>\n",
              "      <td>21400899</td>\n",
              "      <td>MAR 04, 2015 - CHA @ BKN</td>\n",
              "      <td>A</td>\n",
              "      <td>W</td>\n",
              "      <td>24</td>\n",
              "      <td>3</td>\n",
              "      <td>1</td>\n",
              "      <td>0:00</td>\n",
              "      <td>NaN</td>\n",
              "      <td>3</td>\n",
              "      <td>...</td>\n",
              "      <td>10.1</td>\n",
              "      <td>2</td>\n",
              "      <td>missed</td>\n",
              "      <td>Bogdanovic, Bojan</td>\n",
              "      <td>202711</td>\n",
              "      <td>0.9</td>\n",
              "      <td>0</td>\n",
              "      <td>0</td>\n",
              "      <td>brian roberts</td>\n",
              "      <td>203148</td>\n",
              "    </tr>\n",
              "    <tr>\n",
              "      <th>3</th>\n",
              "      <td>21400899</td>\n",
              "      <td>MAR 04, 2015 - CHA @ BKN</td>\n",
              "      <td>A</td>\n",
              "      <td>W</td>\n",
              "      <td>24</td>\n",
              "      <td>4</td>\n",
              "      <td>2</td>\n",
              "      <td>11:47</td>\n",
              "      <td>10.3</td>\n",
              "      <td>2</td>\n",
              "      <td>...</td>\n",
              "      <td>17.2</td>\n",
              "      <td>2</td>\n",
              "      <td>missed</td>\n",
              "      <td>Brown, Markel</td>\n",
              "      <td>203900</td>\n",
              "      <td>3.4</td>\n",
              "      <td>0</td>\n",
              "      <td>0</td>\n",
              "      <td>brian roberts</td>\n",
              "      <td>203148</td>\n",
              "    </tr>\n",
              "    <tr>\n",
              "      <th>4</th>\n",
              "      <td>21400899</td>\n",
              "      <td>MAR 04, 2015 - CHA @ BKN</td>\n",
              "      <td>A</td>\n",
              "      <td>W</td>\n",
              "      <td>24</td>\n",
              "      <td>5</td>\n",
              "      <td>2</td>\n",
              "      <td>10:34</td>\n",
              "      <td>10.9</td>\n",
              "      <td>2</td>\n",
              "      <td>...</td>\n",
              "      <td>3.7</td>\n",
              "      <td>2</td>\n",
              "      <td>missed</td>\n",
              "      <td>Young, Thaddeus</td>\n",
              "      <td>201152</td>\n",
              "      <td>1.1</td>\n",
              "      <td>0</td>\n",
              "      <td>0</td>\n",
              "      <td>brian roberts</td>\n",
              "      <td>203148</td>\n",
              "    </tr>\n",
              "  </tbody>\n",
              "</table>\n",
              "<p>5 rows × 21 columns</p>\n",
              "</div>\n",
              "      <button class=\"colab-df-convert\" onclick=\"convertToInteractive('df-e6949cb5-731c-4193-92e6-bcf5c5b3458c')\"\n",
              "              title=\"Convert this dataframe to an interactive table.\"\n",
              "              style=\"display:none;\">\n",
              "        \n",
              "  <svg xmlns=\"http://www.w3.org/2000/svg\" height=\"24px\"viewBox=\"0 0 24 24\"\n",
              "       width=\"24px\">\n",
              "    <path d=\"M0 0h24v24H0V0z\" fill=\"none\"/>\n",
              "    <path d=\"M18.56 5.44l.94 2.06.94-2.06 2.06-.94-2.06-.94-.94-2.06-.94 2.06-2.06.94zm-11 1L8.5 8.5l.94-2.06 2.06-.94-2.06-.94L8.5 2.5l-.94 2.06-2.06.94zm10 10l.94 2.06.94-2.06 2.06-.94-2.06-.94-.94-2.06-.94 2.06-2.06.94z\"/><path d=\"M17.41 7.96l-1.37-1.37c-.4-.4-.92-.59-1.43-.59-.52 0-1.04.2-1.43.59L10.3 9.45l-7.72 7.72c-.78.78-.78 2.05 0 2.83L4 21.41c.39.39.9.59 1.41.59.51 0 1.02-.2 1.41-.59l7.78-7.78 2.81-2.81c.8-.78.8-2.07 0-2.86zM5.41 20L4 18.59l7.72-7.72 1.47 1.35L5.41 20z\"/>\n",
              "  </svg>\n",
              "      </button>\n",
              "      \n",
              "  <style>\n",
              "    .colab-df-container {\n",
              "      display:flex;\n",
              "      flex-wrap:wrap;\n",
              "      gap: 12px;\n",
              "    }\n",
              "\n",
              "    .colab-df-convert {\n",
              "      background-color: #E8F0FE;\n",
              "      border: none;\n",
              "      border-radius: 50%;\n",
              "      cursor: pointer;\n",
              "      display: none;\n",
              "      fill: #1967D2;\n",
              "      height: 32px;\n",
              "      padding: 0 0 0 0;\n",
              "      width: 32px;\n",
              "    }\n",
              "\n",
              "    .colab-df-convert:hover {\n",
              "      background-color: #E2EBFA;\n",
              "      box-shadow: 0px 1px 2px rgba(60, 64, 67, 0.3), 0px 1px 3px 1px rgba(60, 64, 67, 0.15);\n",
              "      fill: #174EA6;\n",
              "    }\n",
              "\n",
              "    [theme=dark] .colab-df-convert {\n",
              "      background-color: #3B4455;\n",
              "      fill: #D2E3FC;\n",
              "    }\n",
              "\n",
              "    [theme=dark] .colab-df-convert:hover {\n",
              "      background-color: #434B5C;\n",
              "      box-shadow: 0px 1px 3px 1px rgba(0, 0, 0, 0.15);\n",
              "      filter: drop-shadow(0px 1px 2px rgba(0, 0, 0, 0.3));\n",
              "      fill: #FFFFFF;\n",
              "    }\n",
              "  </style>\n",
              "\n",
              "      <script>\n",
              "        const buttonEl =\n",
              "          document.querySelector('#df-e6949cb5-731c-4193-92e6-bcf5c5b3458c button.colab-df-convert');\n",
              "        buttonEl.style.display =\n",
              "          google.colab.kernel.accessAllowed ? 'block' : 'none';\n",
              "\n",
              "        async function convertToInteractive(key) {\n",
              "          const element = document.querySelector('#df-e6949cb5-731c-4193-92e6-bcf5c5b3458c');\n",
              "          const dataTable =\n",
              "            await google.colab.kernel.invokeFunction('convertToInteractive',\n",
              "                                                     [key], {});\n",
              "          if (!dataTable) return;\n",
              "\n",
              "          const docLinkHtml = 'Like what you see? Visit the ' +\n",
              "            '<a target=\"_blank\" href=https://colab.research.google.com/notebooks/data_table.ipynb>data table notebook</a>'\n",
              "            + ' to learn more about interactive tables.';\n",
              "          element.innerHTML = '';\n",
              "          dataTable['output_type'] = 'display_data';\n",
              "          await google.colab.output.renderOutput(dataTable, element);\n",
              "          const docLink = document.createElement('div');\n",
              "          docLink.innerHTML = docLinkHtml;\n",
              "          element.appendChild(docLink);\n",
              "        }\n",
              "      </script>\n",
              "    </div>\n",
              "  </div>\n",
              "  "
            ]
          },
          "metadata": {},
          "execution_count": 2
        }
      ],
      "source": [
        "file_id = url.split('/')[-2]\n",
        "dwn_url='https://drive.google.com/uc?export=download&id=' + file_id\n",
        "url2 = requests.get(dwn_url).text\n",
        "csv_raw = StringIO(url2)\n",
        "shots = pd.read_csv(csv_raw)\n",
        "shots.head()"
      ]
    },
    {
      "cell_type": "markdown",
      "metadata": {
        "id": "Q2f2UsoBqYf7"
      },
      "source": [
        "##feature engineering\n"
      ]
    },
    {
      "cell_type": "code",
      "execution_count": 3,
      "metadata": {
        "colab": {
          "base_uri": "https://localhost:8080/"
        },
        "id": "IQ5DhwMjJqOI",
        "outputId": "ef72d68d-6869-4ff9-c7d5-164f97e54148"
      },
      "outputs": [
        {
          "output_type": "execute_result",
          "data": {
            "text/plain": [
              "game_id                         int64\n",
              "matchup                        object\n",
              "location                       object\n",
              "w                              object\n",
              "final_margin                    int64\n",
              "shot_number                     int64\n",
              "period                          int64\n",
              "game_clock                     object\n",
              "shot_clock                    float64\n",
              "dribbles                        int64\n",
              "touch_time                    float64\n",
              "shot_dist                     float64\n",
              "pts_type                        int64\n",
              "shot_result                    object\n",
              "closest_defender               object\n",
              "closest_defender_player_id      int64\n",
              "close_def_dist                float64\n",
              "fgm                             int64\n",
              "pts                             int64\n",
              "player_name                    object\n",
              "player_id                       int64\n",
              "dtype: object"
            ]
          },
          "metadata": {},
          "execution_count": 3
        }
      ],
      "source": [
        "shots.columns = shots.columns.str.lower()\n",
        "shots.dtypes"
      ]
    },
    {
      "cell_type": "code",
      "execution_count": 4,
      "metadata": {
        "id": "lDBQUI9IJo1T"
      },
      "outputs": [],
      "source": [
        "# Convert game clock to seconds\n",
        "shots['game_clock'] = shots['game_clock'].apply(\n",
        "    lambda x: 60*int(x.split(':')[0]) + int(x.split(':')[1])\n",
        ")\n",
        "\n",
        "# Replacing abnormal values with NaNs\n",
        "shots.loc[shots['touch_time'] < 0, 'touch_time'] = np.nan\n",
        "\n",
        "# Converting type of shot (2 or 3 points) to categorical\n",
        "shots['pts_type'] = (shots['pts_type'] == 3) * 1\n",
        "\n",
        "# Converting location\n",
        "shots['location'] = (shots['location'] == 'H') * 1\n",
        "\n",
        "# Renaming columns\n",
        "shots = shots.rename(columns = {\n",
        "    'fgm':'hit',\n",
        "    'pts_type':'3pts_shot',\n",
        "    'location':'home_match'\n",
        "})\n",
        "\n",
        "# Dropping informative columns (not useful to modelling) as well as \n",
        "# future variables which won't be available at predicting time\n",
        "shots = shots.drop(columns = [\n",
        "    'game_id',\n",
        "    'matchup',\n",
        "    'w',\n",
        "    'final_margin',\n",
        "    'closest_defender_player_id',\n",
        "    'player_id',\n",
        "    'shot_result',\n",
        "    'closest_defender',\n",
        "    'player_name',\n",
        "    'pts'\n",
        "])\n",
        "\n",
        "\n"
      ]
    },
    {
      "cell_type": "code",
      "execution_count": 5,
      "metadata": {
        "id": "WPShCxkYJ4IA"
      },
      "outputs": [],
      "source": [
        "shots_scaled = shots.copy()\n",
        "from sklearn.preprocessing import StandardScaler\n",
        "from sklearn import preprocessing\n",
        "# Stardardization\n",
        "shots_scaled[['shot_clock']] = preprocessing.StandardScaler().fit_transform(shots[['shot_clock']].values)\n",
        "\n",
        "# Robust scaling\n",
        "skewed_cols = ['shot_number', 'dribbles', 'touch_time', 'close_def_dist']\n",
        "shots_scaled[skewed_cols] = preprocessing.RobustScaler().fit_transform(shots[skewed_cols].values)\n",
        "    \n",
        "# Min max transformation\n",
        "min_max_cols = ['period', 'game_clock', 'shot_dist']\n",
        "shots_scaled[min_max_cols] = preprocessing.MinMaxScaler().fit_transform(shots[min_max_cols].values)\n",
        "\n",
        "# Filling NaNs with mean\n",
        "shots_scaled['shot_clock'] = shots_scaled['shot_clock'].fillna(shots_scaled['shot_clock'].mean())\n",
        "shots_scaled['touch_time'] = shots_scaled['touch_time'].fillna(shots_scaled['touch_time'].median())\n",
        "shots['shot_clock'] = shots['shot_clock'].fillna(shots['shot_clock'].mean())\n",
        "shots['touch_time'] = shots['touch_time'].fillna(shots['touch_time'].median())"
      ]
    },
    {
      "cell_type": "markdown",
      "metadata": {
        "id": "CxuHpCHyqcpD"
      },
      "source": [
        "##PCA"
      ]
    },
    {
      "cell_type": "code",
      "execution_count": 6,
      "metadata": {
        "id": "zfq6QY4xKQ78"
      },
      "outputs": [],
      "source": [
        "# Fitting PCA and showing PVE\n",
        "from sklearn.decomposition import PCA\n",
        "pca = PCA(random_state=42).fit(shots_scaled.drop('hit', axis=1).values)\n",
        "pve = pca.explained_variance_ratio_"
      ]
    },
    {
      "cell_type": "code",
      "execution_count": 7,
      "metadata": {
        "colab": {
          "base_uri": "https://localhost:8080/",
          "height": 297
        },
        "id": "u5ylIeF8KRUM",
        "outputId": "e7b2d381-ed6f-4bcc-ad52-6c8cbbf6173d"
      },
      "outputs": [
        {
          "output_type": "display_data",
          "data": {
            "text/plain": [
              "<Figure size 432x288 with 1 Axes>"
            ],
            "image/png": "[encoded data removed]"
          },
          "metadata": {
            "needs_background": "light"
          }
        }
      ],
      "source": [
        "plt.plot(range(1, len(pve) + 1), pve.cumsum())\n",
        "plt.title('Cumulative sum of explained variance', fontsize=16)\n",
        "plt.xlabel('Components')\n",
        "plt.ylabel('Percentage (%)')\n",
        "plt.show()"
      ]
    },
    {
      "cell_type": "markdown",
      "source": [
        "##Feature importance\n"
      ],
      "metadata": {
        "id": "rPCcAgl81bdD"
      }
    },
    {
      "cell_type": "code",
      "source": [
        "X = shots.drop(['hit'], axis = 1)\n",
        "Y = shots['hit']\n",
        "X = pd.get_dummies(X, prefix_sep='_')\n",
        "Y = LabelEncoder().fit_transform(Y)\n",
        "\n",
        "X2 = StandardScaler().fit_transform(X)\n",
        "\n",
        "X_Train, X_Test, Y_Train, Y_Test = train_test_split(X2, Y, test_size = 0.30,  random_state = 101)\n",
        "trainedforest = RandomForestClassifier(n_estimators=700).fit(X_Train,Y_Train)\n"
      ],
      "metadata": {
        "id": "NnD2QvPP1fRZ"
      },
      "execution_count": 8,
      "outputs": []
    },
    {
      "cell_type": "code",
      "source": [
        "feat_importances = pd.Series(trainedforest.feature_importances_, index= X.columns)\n",
        "feat_importances.nlargest(30).plot(kind='barh')"
      ],
      "metadata": {
        "colab": {
          "base_uri": "https://localhost:8080/",
          "height": 284
        },
        "id": "Qg9luram2cMk",
        "outputId": "67c47a87-d9b5-4259-f1e4-485a020b2ff7"
      },
      "execution_count": 9,
      "outputs": [
        {
          "output_type": "execute_result",
          "data": {
            "text/plain": [
              "<matplotlib.axes._subplots.AxesSubplot at 0x7fa58d4f27d0>"
            ]
          },
          "metadata": {},
          "execution_count": 9
        },
        {
          "output_type": "display_data",
          "data": {
            "text/plain": [
              "<Figure size 432x288 with 1 Axes>"
            ],
            "image/png": "[encoded data removed]"
          },
          "metadata": {
            "needs_background": "light"
          }
        }
      ]
    },
    {
      "cell_type": "markdown",
      "metadata": {
        "id": "y0qB73jZqiiz"
      },
      "source": [
        "##split dataset"
      ]
    },
    {
      "cell_type": "code",
      "execution_count": 10,
      "metadata": {
        "id": "tbawjgyFKf92"
      },
      "outputs": [],
      "source": [
        "X = shots.drop('hit', axis = 1).values\n",
        "y = shots['hit'].values\n",
        "x_train, x_test, y_train, y_test = train_test_split(X2, y, test_size = 0.2, random_state=42)\n",
        "\n",
        "\n",
        "\n",
        "# Splitting scaled and transformed by PCA dataset\n",
        "X_scaled = pca.transform(shots_scaled.drop('hit', axis = 1).values)[:,:4]\n",
        "x_train_scaled, x_test_scaled, y_train_scaled, y_test_scaled = train_test_split(X_scaled, y, test_size = 0.2, random_state=42)"
      ]
    },
    {
      "cell_type": "markdown",
      "source": [
        "###LSTM"
      ],
      "metadata": {
        "id": "phNnorPfK2Ya"
      }
    },
    {
      "cell_type": "code",
      "source": [
        ""
      ],
      "metadata": {
        "id": "hraFZR9oK3vJ"
      },
      "execution_count": 10,
      "outputs": []
    },
    {
      "cell_type": "markdown",
      "metadata": {
        "id": "mU0Kqp2Cqr_z"
      },
      "source": [
        "##random Forest"
      ]
    },
    {
      "cell_type": "code",
      "execution_count": 17,
      "metadata": {
        "colab": {
          "base_uri": "https://localhost:8080/"
        },
        "id": "pUmHRz7tI_Um",
        "outputId": "4e13b98e-9502-4993-d4af-4f58a2c3da23"
      },
      "outputs": [
        {
          "output_type": "stream",
          "name": "stdout",
          "text": [
            "[[9673 4323]\n",
            " [7236 4382]]\n",
            "precision_score: 0.5033888569787478\n",
            "accuracy_score: 0.548723354415554\n"
          ]
        }
      ],
      "source": [
        "from sklearn.ensemble import RandomForestClassifier\n",
        "randomforest_model = RandomForestClassifier()\n",
        "randomforest_model.fit(x_train_scaled, y_train_scaled)\n",
        "\n",
        "predictions = randomforest_model.predict(x_test_scaled)\n",
        "\n",
        "actuals = y_test_scaled\n",
        "\n",
        "print(confusion_matrix(actuals, predictions))\n",
        "print(\"precision_score:\",precision_score(actuals, predictions))\n",
        "print(\"accuracy_score:\", accuracy_score(actuals, predictions))"
      ]
    },
    {
      "cell_type": "markdown",
      "metadata": {
        "id": "znPpCzhBquaD"
      },
      "source": [
        "##Logistic Regression"
      ]
    },
    {
      "cell_type": "code",
      "execution_count": 19,
      "metadata": {
        "colab": {
          "base_uri": "https://localhost:8080/"
        },
        "id": "RHXx8EEnqwzT",
        "outputId": "c26d8860-ef24-45e6-98ac-515608d62cce"
      },
      "outputs": [
        {
          "output_type": "stream",
          "name": "stdout",
          "text": [
            "[[11966  2030]\n",
            " [ 9047  2571]]\n",
            "precision_score: 0.5587915670506411\n",
            "accuracy_score: 0.5675411884125868\n"
          ]
        }
      ],
      "source": [
        "from sklearn.linear_model import LogisticRegression\n",
        "LR_model = LogisticRegression()\n",
        "LR_model.fit(x_train_scaled, y_train_scaled)\n",
        "\n",
        "predictions = LR_model.predict(x_test_scaled)\n",
        "\n",
        "actuals = y_test_scaled\n",
        "\n",
        "print(confusion_matrix(actuals, predictions))\n",
        "print(\"precision_score:\",precision_score(actuals, predictions))\n",
        "print(\"accuracy_score:\", accuracy_score(actuals, predictions))"
      ]
    },
    {
      "cell_type": "markdown",
      "metadata": {
        "id": "DYLlGQxHGDhf"
      },
      "source": [
        "##Naive Bayes\n"
      ]
    },
    {
      "cell_type": "code",
      "execution_count": 20,
      "metadata": {
        "colab": {
          "base_uri": "https://localhost:8080/"
        },
        "id": "foudYK0zq18E",
        "outputId": "02644903-91dd-4f5d-c186-5493e81414f1"
      },
      "outputs": [
        {
          "output_type": "stream",
          "name": "stdout",
          "text": [
            "[[11319  2677]\n",
            " [ 8544  3074]]\n",
            "precision_score: 0.5345157363936707\n",
            "accuracy_score: 0.5619192629030999\n"
          ]
        }
      ],
      "source": [
        "from sklearn.naive_bayes import MultinomialNB, GaussianNB\n",
        "\n",
        "mnb=GaussianNB()\n",
        "mnb_model = mnb.fit(x_train_scaled, y_train_scaled)\n",
        "predictions = mnb_model.predict(x_test_scaled)\n",
        "\n",
        "actuals = y_test_scaled\n",
        "\n",
        "print(confusion_matrix(actuals, predictions))\n",
        "print(\"precision_score:\",precision_score(actuals, predictions))\n",
        "print(\"accuracy_score:\", accuracy_score(actuals, predictions))"
      ]
    },
    {
      "cell_type": "markdown",
      "metadata": {
        "id": "d_9OgXpYM4cG"
      },
      "source": [
        "##Neural Network"
      ]
    },
    {
      "cell_type": "code",
      "execution_count": 21,
      "metadata": {
        "colab": {
          "base_uri": "https://localhost:8080/"
        },
        "id": "rVJPNJ4EM3Dz",
        "outputId": "5b218d71-155a-4a71-fd5e-4f2d412637c3"
      },
      "outputs": [
        {
          "output_type": "stream",
          "name": "stdout",
          "text": [
            "[[11326  2670]\n",
            " [ 8105  3513]]\n",
            "precision_score: 0.5681707908782144\n",
            "accuracy_score: 0.579331615522761\n"
          ]
        }
      ],
      "source": [
        "from sklearn.neural_network import MLPClassifier\n",
        "mlp=MLPClassifier()\n",
        "mlp_model = mlp.fit(x_train_scaled, y_train_scaled)\n",
        "predictions = mlp_model.predict(x_test_scaled)\n",
        "\n",
        "actuals = y_test_scaled\n",
        "\n",
        "print(confusion_matrix(actuals, predictions))\n",
        "print(\"precision_score:\",precision_score(actuals, predictions))\n",
        "print(\"accuracy_score:\", accuracy_score(actuals, predictions))\n"
      ]
    },
    {
      "cell_type": "markdown",
      "metadata": {
        "id": "Unmsx1NbRRnG"
      },
      "source": [
        "##XGBOOST"
      ]
    },
    {
      "cell_type": "code",
      "execution_count": 29,
      "metadata": {
        "colab": {
          "base_uri": "https://localhost:8080/"
        },
        "id": "PTCanZ61RRnG",
        "outputId": "a1bc10da-f1d7-449c-d421-46b348772a2d"
      },
      "outputs": [
        {
          "output_type": "stream",
          "name": "stdout",
          "text": [
            "[[11515  2481]\n",
            " [ 8184  3434]]\n",
            "0.5836261419536191\n",
            "best params\n",
            "{'learning_rate': 1e-05, 'max_depth': 5, 'min_child_weight': 0.0001, 'n_estimators': 1}\n",
            "best score\n",
            "0.6163175789707711\n"
          ]
        }
      ],
      "source": [
        "xgb_model = XGBClassifier().fit(x_train_scaled, y_train_scaled)\n",
        "\n",
        "predictions = xgb_model.predict(x_test_scaled)\n",
        "\n",
        "actuals = y_test_scaled\n",
        "\n",
        "print(confusion_matrix(actuals, predictions))\n",
        "print(accuracy_score(actuals, predictions) )\n",
        "\n",
        "\n",
        "\n",
        "\n",
        "\n",
        "parameters_for_testing = {\n",
        "    'min_child_weight':[0.0001,0.001,0.01,0.1],\n",
        "    'learning_rate':[0.00001,0.0001,0.001],\n",
        "    'n_estimators':[1,2,3,5,10],\n",
        "    'subsample':np.linspace(0.7,0.9,20),\n",
        "    'max_depth':[2,3,4,5]\n",
        "    'colsample_bytree':np.linspace(0.5,0.98,10)\n",
        "}\n",
        "'''\n",
        "parameters_for_testing = {\n",
        "    'min_child_weight':[0.0001,0.001,0.01,0.1],\n",
        "    'learning_rate':[0.0001,0.001],\n",
        "    'n_estimators':[1,3,5,10],\n",
        "    'max_depth':[3,4]\n",
        "}\n",
        "'''\n",
        "# Parameter tuning using 7 features\n",
        "xgb_model = XGBClassifier()\n",
        "\n",
        "gsearch1 = GridSearchCV(estimator = xgb_model, param_grid = parameters_for_testing, scoring='accuracy')\n",
        "gsearch1.fit(x_train_scaled,y_train_scaled)\n",
        "\n",
        "print('best params')\n",
        "print (gsearch1.best_params_)\n",
        "print('best score')\n",
        "print (gsearch1.best_score_)"
      ]
    },
    {
      "cell_type": "markdown",
      "metadata": {
        "id": "38uj05W1LxOa"
      },
      "source": [
        "##SVM"
      ]
    },
    {
      "cell_type": "code",
      "execution_count": 22,
      "metadata": {
        "id": "JWr5hjavZQBK"
      },
      "outputs": [],
      "source": [
        "from sklearn.svm import LinearSVC\n",
        "from sklearn.pipeline import make_pipeline\n",
        "from sklearn.preprocessing import StandardScaler\n",
        "from sklearn.datasets import make_classification\n",
        "from sklearn.model_selection import GridSearchCV\n",
        "from sklearn.svm import LinearSVC, SVC"
      ]
    },
    {
      "cell_type": "code",
      "execution_count": 24,
      "metadata": {
        "id": "_yUNywH7XXO3",
        "colab": {
          "base_uri": "https://localhost:8080/"
        },
        "outputId": "57ff893f-0fd7-4926-a2a7-84d73efdbfa1"
      },
      "outputs": [
        {
          "output_type": "stream",
          "name": "stdout",
          "text": [
            "[[12220  1776]\n",
            " [ 9011  2607]]\n",
            "precision_score: 0.594798083504449\n",
            "accuracy_score: 0.5788631217303037\n"
          ]
        }
      ],
      "source": [
        "svm=SVC()\n",
        "svm_model = svm.fit(x_train_scaled, y_train_scaled)\n",
        "predictions = svm_model.predict(x_test_scaled)\n",
        "\n",
        "actuals = y_test_scaled\n",
        "\n",
        "print(confusion_matrix(actuals, predictions))\n",
        "print(\"precision_score:\",precision_score(actuals, predictions))\n",
        "print(\"accuracy_score:\", accuracy_score(actuals, predictions))"
      ]
    },
    {
      "cell_type": "code",
      "execution_count": null,
      "metadata": {
        "colab": {
          "background_save": true
        },
        "id": "SBkq6SsuhCQa"
      },
      "outputs": [],
      "source": [
        "'''from sklearn.model_selection import GridSearchCV\n",
        "from sklearn.metrics import classification_report\n",
        "tuned_parameters = [\n",
        "    {\"kernel\": [\"rbf\"], \"gamma\": [1e-3, 1e-4], \"C\": [1, 10, 100, 1000]},\n",
        "    {\"kernel\": [\"linear\"], \"C\": [1, 10, 100, 1000]},\n",
        "]\n",
        "\n",
        "scores = [\"precision\", \"recall\"]\n",
        "\n",
        "for score in scores:\n",
        "    print(\"# Tuning hyper-parameters for %s\" % score)\n",
        "    print()\n",
        "\n",
        "    clf = GridSearchCV(SVC(), tuned_parameters, scoring=\"%s_macro\" % score)\n",
        "    clf.fit(x_train_scaled, y_train_scaled)\n",
        "\n",
        "    print(\"Best parameters set found on development set:\")\n",
        "    print()\n",
        "    print(clf.best_params_)\n",
        "    print()\n",
        "    print(\"Grid scores on development set:\")\n",
        "    print()\n",
        "    means = clf.cv_results_[\"mean_test_score\"]\n",
        "    stds = clf.cv_results_[\"std_test_score\"]\n",
        "    for mean, std, params in zip(means, stds, clf.cv_results_[\"params\"]):\n",
        "        print(\"%0.3f (+/-%0.03f) for %r\" % (mean, std * 2, params))\n",
        "    print()\n",
        "\n",
        "    print(\"Detailed classification report:\")\n",
        "    print()\n",
        "    print(\"The model is trained on the full development set.\")\n",
        "    print(\"The scores are computed on the full evaluation set.\")\n",
        "    print()\n",
        "    y_true, y_pred = y_test, clf.predict(x_test_scaled)\n",
        "    print(classification_report(y_true, y_pred))\n",
        "    print() '''"
      ]
    },
    {
      "cell_type": "markdown",
      "source": [
        "### LSTM"
      ],
      "metadata": {
        "id": "OZWbamKstsLM"
      }
    },
    {
      "cell_type": "code",
      "source": [
        "from keras.preprocessing import sequence\n",
        "from keras.models import Sequential\n",
        "from keras.layers import Dense, Dropout, Embedding, LSTM, Bidirectional\n",
        "from keras.datasets import imdb \n",
        "n_unique_words = 10000 # cut texts after this number of words\n",
        "maxlen = 200\n",
        "batch_size = 128 \n"
      ],
      "metadata": {
        "id": "BQ9IpF96eFcj"
      },
      "execution_count": null,
      "outputs": []
    },
    {
      "cell_type": "code",
      "source": [
        " x_train = sequence.pad_sequences(x_train, maxlen=maxlen)\n",
        " x_test = sequence.pad_sequences(x_test, maxlen=maxlen)\n",
        " y_train = np.array(y_train)\n",
        " y_test = np.array(y_test) "
      ],
      "metadata": {
        "id": "nPvXtxPveQPH"
      },
      "execution_count": null,
      "outputs": []
    },
    {
      "cell_type": "code",
      "source": [
        "model = Sequential()\n",
        "model.add(Embedding(n_unique_words, 128, input_length=maxlen))\n",
        "model.add(Bidirectional(LSTM(64)))\n",
        "model.add(Dropout(0.5))\n",
        "model.add(Dense(1, activation='sigmoid'))\n",
        "model.compile(loss='binary_crossentropy', optimizer='adam', metrics=['accuracy']) \n"
      ],
      "metadata": {
        "id": "Q7tQVy8VeUdt"
      },
      "execution_count": null,
      "outputs": []
    },
    {
      "cell_type": "code",
      "source": [
        "history=model.fit(x_train, y_train,\n",
        "           batch_size=batch_size,\n",
        "           epochs=12,\n",
        "           validation_data=[x_test, y_test])\n",
        "print(history.history['loss'])\n",
        "print(history.history['accuracy']) "
      ],
      "metadata": {
        "colab": {
          "base_uri": "https://localhost:8080/"
        },
        "id": "CEjw1VAWfGxN",
        "outputId": "e49e30f7-fb40-4d91-ddfb-5f580a7c52fe"
      },
      "execution_count": null,
      "outputs": [
        {
          "output_type": "stream",
          "name": "stdout",
          "text": [
            "Epoch 1/12\n",
            "801/801 [==============================] - 544s 674ms/step - loss: 0.6685 - accuracy: 0.5947 - val_loss: 0.6568 - val_accuracy: 0.6124\n",
            "Epoch 2/12\n",
            "801/801 [==============================] - 540s 674ms/step - loss: 0.6536 - accuracy: 0.6171 - val_loss: 0.6575 - val_accuracy: 0.6133\n",
            "Epoch 3/12\n",
            "801/801 [==============================] - 547s 683ms/step - loss: 0.6512 - accuracy: 0.6194 - val_loss: 0.6563 - val_accuracy: 0.6127\n",
            "Epoch 4/12\n",
            "801/801 [==============================] - 544s 680ms/step - loss: 0.6495 - accuracy: 0.6207 - val_loss: 0.6569 - val_accuracy: 0.6138\n",
            "Epoch 5/12\n",
            "801/801 [==============================] - 543s 678ms/step - loss: 0.6475 - accuracy: 0.6212 - val_loss: 0.6568 - val_accuracy: 0.6101\n",
            "Epoch 6/12\n",
            "801/801 [==============================] - 541s 675ms/step - loss: 0.6458 - accuracy: 0.6236 - val_loss: 0.6584 - val_accuracy: 0.6132\n",
            "Epoch 7/12\n",
            "801/801 [==============================] - 540s 675ms/step - loss: 0.6438 - accuracy: 0.6255 - val_loss: 0.6607 - val_accuracy: 0.6045\n",
            "Epoch 8/12\n",
            "801/801 [==============================] - 541s 676ms/step - loss: 0.6419 - accuracy: 0.6278 - val_loss: 0.6618 - val_accuracy: 0.6100\n",
            "Epoch 9/12\n",
            "801/801 [==============================] - 541s 675ms/step - loss: 0.6396 - accuracy: 0.6313 - val_loss: 0.6644 - val_accuracy: 0.6053\n",
            "Epoch 10/12\n",
            "801/801 [==============================] - 549s 686ms/step - loss: 0.6379 - accuracy: 0.6320 - val_loss: 0.6650 - val_accuracy: 0.5998\n",
            "Epoch 11/12\n",
            "801/801 [==============================] - 541s 676ms/step - loss: 0.6355 - accuracy: 0.6352 - val_loss: 0.6666 - val_accuracy: 0.6022\n",
            "Epoch 12/12\n",
            "801/801 [==============================] - 544s 679ms/step - loss: 0.6331 - accuracy: 0.6375 - val_loss: 0.6683 - val_accuracy: 0.6024\n",
            "[0.6685093641281128, 0.653627872467041, 0.6511661410331726, 0.6494663953781128, 0.6475169062614441, 0.6458472013473511, 0.643823504447937, 0.6419143080711365, 0.6396084427833557, 0.6378918886184692, 0.6355103254318237, 0.6331474184989929]\n",
            "[0.5947000980377197, 0.6171197295188904, 0.6194231510162354, 0.6206822395324707, 0.621228814125061, 0.6236201524734497, 0.6255233883857727, 0.6278170943260193, 0.6313015222549438, 0.6320140361785889, 0.6351861953735352, 0.6374993920326233]\n"
          ]
        }
      ]
    },
    {
      "cell_type": "code",
      "source": [
        "import statistics\n",
        "x = statistics.mean(history.history['accuracy'])\n",
        "print(\"Mean is :\", x)\n",
        " "
      ],
      "metadata": {
        "id": "M7_P2_q8ndTd",
        "outputId": "41616d36-3c95-4826-921f-72cfd560051d",
        "colab": {
          "base_uri": "https://localhost:8080/"
        }
      },
      "execution_count": null,
      "outputs": [
        {
          "output_type": "stream",
          "name": "stdout",
          "text": [
            "Mean is : 0.6238429844379425\n"
          ]
        }
      ]
    },
    {
      "cell_type": "code",
      "source": [
        " from matplotlib import pyplot\n",
        " pyplot.plot(history.history['loss'])\n",
        " pyplot.plot(history.history['accuracy'])\n",
        " pyplot.title('model loss vs accuracy')\n",
        " pyplot.xlabel('epoch')\n",
        " pyplot.legend(['loss', 'accuracy'], loc='upper right')\n",
        " pyplot.show() "
      ],
      "metadata": {
        "id": "sVqK6yX2p2lU",
        "outputId": "25360bde-6535-4e19-fb47-17441b6cfa80",
        "colab": {
          "base_uri": "https://localhost:8080/",
          "height": 295
        }
      },
      "execution_count": null,
      "outputs": [
        {
          "output_type": "display_data",
          "data": {
            "text/plain": [
              "<Figure size 432x288 with 1 Axes>"
            ],
            "image/png": "[encoded data removed]"
          },
          "metadata": {
            "needs_background": "light"
          }
        }
      ]
    },
    {
      "cell_type": "markdown",
      "source": [
        "##k-fold"
      ],
      "metadata": {
        "id": "Xdlxa1NdtzND"
      }
    },
    {
      "cell_type": "code",
      "source": [
        "from sklearn.model_selection import StratifiedKFold\n",
        "folds=StratifiedKFold(n_splits=10)\n",
        "folds"
      ],
      "metadata": {
        "id": "MqIx5D_kUgU7",
        "colab": {
          "base_uri": "https://localhost:8080/"
        },
        "outputId": "2e9eeb74-40e8-4fab-ed95-cb83e6fbdfd6"
      },
      "execution_count": 25,
      "outputs": [
        {
          "output_type": "execute_result",
          "data": {
            "text/plain": [
              "StratifiedKFold(n_splits=10, random_state=None, shuffle=False)"
            ]
          },
          "metadata": {},
          "execution_count": 25
        }
      ]
    },
    {
      "cell_type": "code",
      "source": [
        "def get_score(model, x_train, x_test, y_train, y_test):\n",
        "  model.fit(x_train_scaled, y_train_scaled)\n",
        "  y_pred_train=model.predict(x_test_scaled)\n",
        "  return accuracy_score(y_test_scaled, y_pred_train)\n",
        "  "
      ],
      "metadata": {
        "id": "sOCp1eeSUj0w"
      },
      "execution_count": 26,
      "outputs": []
    },
    {
      "cell_type": "code",
      "source": [
        "scores_RF=[]\n",
        "scores_XGboost=[]\n",
        "scores_SVM=[]\n",
        "scores_Logistic=[]\n",
        "scores_NN=[]\n",
        "scores_NB=[]\n",
        "\n",
        "for train_index, test_index in folds.split(X,y):\n",
        "  x_train, x_test, y_train, y_test = X[train_index], X[test_index], y[train_index], y[test_index]\n",
        "  scores_RF.append(get_score(RandomForestClassifier(),x_train, x_test, y_train, y_test))\n",
        "  scores_XGboost.append(get_score(XGBClassifier(),x_train, x_test, y_train, y_test))\n",
        "  scores_SVM.append(get_score(SVC(),x_train, x_test, y_train, y_test))\n",
        "  scores_Logistic.append(get_score(LogisticRegression(),x_train, x_test, y_train, y_test))\n",
        "  scores_NN.append(get_score(MLPClassifier(),x_train, x_test, y_train, y_test))\n",
        "  scores_NB.append(get_score(GaussianNB(),x_train, x_test, y_train, y_test))"
      ],
      "metadata": {
        "id": "Ukv8K7etUlTv"
      },
      "execution_count": null,
      "outputs": []
    },
    {
      "cell_type": "code",
      "source": [
        "print(\"RF_scores\" ,scores_RF)\n",
        "print(\"XGboost_scores\" ,scores_XGboost)\n",
        "print(\"SVM_scores\" ,scores_SVM)\n",
        "print(\"Logistic_scores\" ,scores_Logistic)\n",
        "print(\"NN_scores\" ,scores_NN)\n",
        "print(\"NB_scores\" ,scores_NB)\n"
      ],
      "metadata": {
        "id": "sPcUAAt8U-gt"
      },
      "execution_count": null,
      "outputs": []
    }
  ],
  "metadata": {
    "colab": {
      "name": "nba.ipynb",
      "provenance": [],
      "authorship_tag": "ABX9TyOO8wIRZPMASr1YPMO9yCTS",
      "include_colab_link": true
    },
    "kernelspec": {
      "display_name": "Python 3",
      "name": "python3"
    },
    "language_info": {
      "name": "python"
    }
  },
  "nbformat": 4,
  "nbformat_minor": 0
}